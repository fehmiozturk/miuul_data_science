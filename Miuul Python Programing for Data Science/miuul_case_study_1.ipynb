{
 "cells": [
  {
   "cell_type": "markdown",
   "id": "27f9619c",
   "metadata": {},
   "source": [
    "# Soru 1\n"
   ]
  },
  {
   "cell_type": "code",
   "execution_count": 16,
   "id": "9cedd8fc",
   "metadata": {},
   "outputs": [],
   "source": [
    "# Verilen string ifadenin tüm harflerini büyük harfe çeviriniz. Virgül ve nokta yerine space koyunuz,\n",
    "#kelime kelime ayırınız.\n",
    "\n",
    "\n",
    "text = \"The goal is to turn data into information  and information into insight\"\n",
    "\n"
   ]
  },
  {
   "cell_type": "code",
   "execution_count": 19,
   "id": "802e5601",
   "metadata": {},
   "outputs": [
    {
     "name": "stdout",
     "output_type": "stream",
     "text": [
      "['THE', 'GOAL', 'IS', 'TO', 'TURN', 'DATA', 'INTO', 'INFORMATION', 'AND', 'INFORMATION', 'INTO', 'INSIGHT']\n"
     ]
    }
   ],
   "source": [
    "text = text.upper()\n",
    "text = text.split()\n",
    "print(text)"
   ]
  },
  {
   "cell_type": "markdown",
   "id": "daff1b13",
   "metadata": {},
   "source": [
    "# Soru 2"
   ]
  },
  {
   "cell_type": "code",
   "execution_count": 100,
   "id": "976b98fa",
   "metadata": {},
   "outputs": [],
   "source": [
    "# Verilen listeye aşağıdaki adımları uygulayınız.\n",
    "#Adım 1: Verilen listenin eleman sayısına bakınız.\n",
    "#Adım 2: Sıfırıncı ve onuncu indeksteki elemanları çağırınız.\n",
    "#Adım 3: Verilen liste üzerinden [\"D\", \"A\", \"T\", \"A\"] listesi oluşturunuz.\n",
    "#Adım 4: Sekizinci indeksteki elemanı siliniz.\n",
    "#Adım 5: Yeni bir eleman ekleyiniz.\n",
    "#Adım 6: Sekizinci indekse \"N\" elemanını tekrar ekleyiniz.\n",
    "\n",
    "liste = [\"D\",\"A\",\"T\",\"A\",\"S\",\"C\",\"I\",\"E\",\"N\",\"C\",\"E\"]"
   ]
  },
  {
   "cell_type": "code",
   "execution_count": 101,
   "id": "1d186d45",
   "metadata": {},
   "outputs": [
    {
     "data": {
      "text/plain": [
       "11"
      ]
     },
     "execution_count": 101,
     "metadata": {},
     "output_type": "execute_result"
    }
   ],
   "source": [
    "len(liste)"
   ]
  },
  {
   "cell_type": "code",
   "execution_count": 102,
   "id": "5cc78138",
   "metadata": {},
   "outputs": [
    {
     "name": "stdout",
     "output_type": "stream",
     "text": [
      "D\n",
      "E\n"
     ]
    }
   ],
   "source": [
    "print(liste[0])\n",
    "print(liste[10])"
   ]
  },
  {
   "cell_type": "code",
   "execution_count": 103,
   "id": "30782085",
   "metadata": {},
   "outputs": [
    {
     "name": "stdout",
     "output_type": "stream",
     "text": [
      "['D', 'A', 'T', 'A']\n"
     ]
    }
   ],
   "source": [
    "new_list = liste[0:4]\n",
    "print(new_list)"
   ]
  },
  {
   "cell_type": "code",
   "execution_count": 104,
   "id": "2e5b75b9",
   "metadata": {},
   "outputs": [
    {
     "name": "stdout",
     "output_type": "stream",
     "text": [
      "['D', 'A', 'T', 'A', 'S', 'C', 'I', 'E', 'C', 'E']\n"
     ]
    }
   ],
   "source": [
    "liste.pop(8)\n",
    "print(liste)"
   ]
  },
  {
   "cell_type": "code",
   "execution_count": 105,
   "id": "89e5c82b",
   "metadata": {},
   "outputs": [
    {
     "name": "stdout",
     "output_type": "stream",
     "text": [
      "['D', 'A', 'T', 'A', 'S', 'C', 'I', 'E', 'C', 'E', 'Fehmi']\n"
     ]
    }
   ],
   "source": [
    "liste.append(\"Fehmi\")\n",
    "print(liste)"
   ]
  },
  {
   "cell_type": "code",
   "execution_count": 106,
   "id": "3e6cfcd6",
   "metadata": {},
   "outputs": [
    {
     "name": "stdout",
     "output_type": "stream",
     "text": [
      "['D', 'A', 'T', 'A', 'S', 'C', 'I', 'E', 'N', 'C', 'E', 'Fehmi']\n"
     ]
    }
   ],
   "source": [
    "liste.insert(8,\"N\")\n",
    "print(liste)"
   ]
  },
  {
   "cell_type": "markdown",
   "id": "f151288f",
   "metadata": {},
   "source": [
    "# Soru 3"
   ]
  },
  {
   "cell_type": "code",
   "execution_count": 107,
   "id": "500e0cac",
   "metadata": {},
   "outputs": [],
   "source": [
    "# Verilen sözlük yapısına aşağıdaki adımları uygulayınız.\n",
    "#Adım 1: Key değerlerine erişiniz.\n",
    "#Adım 2: Value'lara erişiniz.\n",
    "#Adım 3: Daisy key'ine ait 12 değerini 13 olarak güncelleyiniz.\n",
    "#Adım 4: Key değeri Ahmet value değeri [Turkey,24] olan yeni bir değer ekleyiniz.\n",
    "#Adım 5: Antonio'yu dictionary'den siliniz."
   ]
  },
  {
   "cell_type": "code",
   "execution_count": 108,
   "id": "5c278e43",
   "metadata": {},
   "outputs": [],
   "source": [
    "dict = {\"Christian\" : [\"America\",18],\n",
    "        \"Daisy\" : [\"England\",12],\n",
    "        \"Antonio\" : [\"Spain\",22],\n",
    "        \"Dante\" : [\"Italy\",25],\n",
    "       }"
   ]
  },
  {
   "cell_type": "code",
   "execution_count": 109,
   "id": "40de4d28",
   "metadata": {},
   "outputs": [
    {
     "data": {
      "text/plain": [
       "dict_keys(['Christian', 'Daisy', 'Antonio', 'Dante'])"
      ]
     },
     "execution_count": 109,
     "metadata": {},
     "output_type": "execute_result"
    }
   ],
   "source": [
    "dict.keys()"
   ]
  },
  {
   "cell_type": "code",
   "execution_count": 110,
   "id": "eb08699a",
   "metadata": {},
   "outputs": [
    {
     "data": {
      "text/plain": [
       "dict_values([['America', 18], ['England', 12], ['Spain', 22], ['Italy', 25]])"
      ]
     },
     "execution_count": 110,
     "metadata": {},
     "output_type": "execute_result"
    }
   ],
   "source": [
    "dict.values()"
   ]
  },
  {
   "cell_type": "code",
   "execution_count": 111,
   "id": "cd539f90",
   "metadata": {},
   "outputs": [
    {
     "name": "stdout",
     "output_type": "stream",
     "text": [
      "{'Christian': ['America', 18], 'Daisy': ['England', 13], 'Antonio': ['Spain', 22], 'Dante': ['Italy', 25]}\n"
     ]
    }
   ],
   "source": [
    "dict.update({\"Daisy\" : [\"England\",13]})\n",
    "print(dict)"
   ]
  },
  {
   "cell_type": "code",
   "execution_count": 112,
   "id": "9cbd1813",
   "metadata": {},
   "outputs": [
    {
     "name": "stdout",
     "output_type": "stream",
     "text": [
      "{'Christian': ['America', 18], 'Daisy': ['England', 13], 'Antonio': ['Spain', 22], 'Dante': ['Italy', 25], 'Ahmet': ['Turkey', 24]}\n"
     ]
    }
   ],
   "source": [
    "dict[\"Ahmet\"] = [\"Turkey\",24]\n",
    "print(dict)"
   ]
  },
  {
   "cell_type": "code",
   "execution_count": 113,
   "id": "25b7cc57",
   "metadata": {},
   "outputs": [
    {
     "name": "stdout",
     "output_type": "stream",
     "text": [
      "{'Christian': ['America', 18], 'Daisy': ['England', 13], 'Dante': ['Italy', 25], 'Ahmet': ['Turkey', 24]}\n"
     ]
    }
   ],
   "source": [
    "dict.pop(\"Antonio\")\n",
    "print(dict)"
   ]
  },
  {
   "cell_type": "markdown",
   "id": "c26c878a",
   "metadata": {},
   "source": [
    "# Soru 4 "
   ]
  },
  {
   "cell_type": "code",
   "execution_count": null,
   "id": "59337f06",
   "metadata": {},
   "outputs": [],
   "source": [
    "# Argüman olarak bir liste alan, listenin içerisindeki tek ve çift sayıları ayrı listelere atayan ve bu listeleri\n",
    "#return eden fonksiyon yazınız."
   ]
  },
  {
   "cell_type": "code",
   "execution_count": 207,
   "id": "ce266d04",
   "metadata": {},
   "outputs": [],
   "source": [
    "liste1 = [2,13,18,93,22]\n",
    "tek_liste = []\n",
    "cift_liste = []"
   ]
  },
  {
   "cell_type": "code",
   "execution_count": 208,
   "id": "5099eaf2",
   "metadata": {},
   "outputs": [],
   "source": [
    "def ayir(liste):\n",
    "    \n",
    "    for i in liste:\n",
    "        if i % 2 == 0:\n",
    "            cift_liste.append(i)\n",
    "        else:\n",
    "            tek_liste.append(i)\n",
    "    return cift_liste ,tek_liste   \n",
    "        \n",
    "   "
   ]
  },
  {
   "cell_type": "code",
   "execution_count": 209,
   "id": "b17add3d",
   "metadata": {},
   "outputs": [
    {
     "name": "stdout",
     "output_type": "stream",
     "text": [
      "[13, 93]\n",
      "[2, 18, 22]\n"
     ]
    }
   ],
   "source": [
    "ayir(liste1)\n",
    "print(tek_liste)\n",
    "print(cift_liste)"
   ]
  },
  {
   "cell_type": "markdown",
   "id": "10a8d4d4",
   "metadata": {},
   "source": [
    "# Soru 5"
   ]
  },
  {
   "cell_type": "code",
   "execution_count": null,
   "id": "76809eb4",
   "metadata": {},
   "outputs": [],
   "source": [
    "# Aşağıda verilen listede mühendislik ve tıp fakülterinde dereceye giren öğrencilerin isimleri\n",
    "#bulunmaktadır. Sırasıyla ilk üç öğrenci mühendislik fakültesinin başarı sırasını temsil ederken son üç öğrenci de\n",
    "#tıp fakültesi öğrenci sırasına aittir. Enumarate kullanarak öğrenci derecelerini fakülte özelinde yazdırınız."
   ]
  },
  {
   "cell_type": "code",
   "execution_count": 213,
   "id": "fa721dd8",
   "metadata": {},
   "outputs": [],
   "source": [
    "ogrenciler = [\"Ali\",\"Veli\",\"Ayşe\",\"Talat\",\"Zeynep\",\"Ece\"]"
   ]
  },
  {
   "cell_type": "code",
   "execution_count": 217,
   "id": "c96d8613",
   "metadata": {},
   "outputs": [
    {
     "name": "stdout",
     "output_type": "stream",
     "text": [
      "Mühendislik Fakültesinin 1 . öğrencisi Ali\n",
      "Mühendislik Fakültesinin 2 . öğrencisi Veli\n",
      "Mühendislik Fakültesinin 3 . öğrencisi Ayşe\n",
      "Tıp Fakültesinin 1 . öğrencisi Talat\n",
      "Tıp Fakültesinin 2 . öğrencisi Zeynep\n",
      "Tıp Fakültesinin 3 . öğrencisi Ece\n"
     ]
    }
   ],
   "source": [
    "for i,j in enumerate(ogrenciler):\n",
    "    if i<3:\n",
    "        i+=1\n",
    "        print(\"Mühendislik Fakültesinin\",i,\". öğrencisi\",j)\n",
    "    else:\n",
    "        i -= 2\n",
    "        print(\"Tıp Fakültesinin\",i,\". öğrencisi\",j)\n",
    "    \n",
    "            "
   ]
  },
  {
   "cell_type": "markdown",
   "id": "34de88e6",
   "metadata": {},
   "source": [
    "# Soru 6 "
   ]
  },
  {
   "cell_type": "code",
   "execution_count": 218,
   "id": "e255467a",
   "metadata": {},
   "outputs": [],
   "source": [
    "#Aşağıda 3 adet liste verilmiştir. Listelerde sırası ile bir dersin kodu, kredisi ve kontenjan bilgileri yer\n",
    "#almaktadır. Zip kullanarak ders bilgilerini bastırınız."
   ]
  },
  {
   "cell_type": "code",
   "execution_count": 229,
   "id": "d2019dac",
   "metadata": {},
   "outputs": [],
   "source": [
    "kredi = [3,4,2,4]\n",
    "ders_kodu = [\"CHM1005\",\"PSY1001\",\"HUK1005\",\"SEN2204\"]\n",
    "kontenjan = [30,75,150,25]"
   ]
  },
  {
   "cell_type": "code",
   "execution_count": 230,
   "id": "e3769403",
   "metadata": {},
   "outputs": [
    {
     "name": "stdout",
     "output_type": "stream",
     "text": [
      "Kredisi 3 olan CHM1005 kodlu dersin kontenjanı 30 kişidir.\n",
      "Kredisi 4 olan PSY1001 kodlu dersin kontenjanı 75 kişidir.\n",
      "Kredisi 2 olan HUK1005 kodlu dersin kontenjanı 150 kişidir.\n",
      "Kredisi 4 olan SEN2204 kodlu dersin kontenjanı 25 kişidir.\n"
     ]
    }
   ],
   "source": [
    "for kredi,ders_kodu,kontenjan in  zip(kredi,ders_kodu,kontenjan):\n",
    "    print(\"Kredisi {} olan {} kodlu dersin kontenjanı {} kişidir.\".format(kredi,ders_kodu,kontenjan))"
   ]
  },
  {
   "cell_type": "markdown",
   "id": "7cfb6168",
   "metadata": {},
   "source": [
    "# Soru 7"
   ]
  },
  {
   "cell_type": "code",
   "execution_count": 235,
   "id": "d435ffdf",
   "metadata": {},
   "outputs": [],
   "source": [
    "#Aşağıda 2 adet set verilmiştir. Sizden istenilen eğer 1. küme 2. kümeyi kapsiyor ise ortak elemanlarını\n",
    "#eğer kapsamıyor ise 2. kümenin 1. kümeden farkını yazdıracak fonksiyonu tanımlamanız beklenmektedir."
   ]
  },
  {
   "cell_type": "code",
   "execution_count": 241,
   "id": "2b39aaf4",
   "metadata": {},
   "outputs": [],
   "source": [
    "kume1 = set([\"data\", \"python\"])\n",
    "kume2 = set([\"data\", \"function\", \"qcut\", \"lambda\", \"python\", \"miuul\"])"
   ]
  },
  {
   "cell_type": "code",
   "execution_count": 243,
   "id": "82094d79",
   "metadata": {},
   "outputs": [],
   "source": [
    "def cluster(a,b):\n",
    "    if a.issuperset(b):\n",
    "        print(a.intersection(b))\n",
    "    else:\n",
    "        print(b.difference(a))"
   ]
  },
  {
   "cell_type": "code",
   "execution_count": 244,
   "id": "e1b319c2",
   "metadata": {},
   "outputs": [
    {
     "name": "stdout",
     "output_type": "stream",
     "text": [
      "{'lambda', 'function', 'qcut', 'miuul'}\n"
     ]
    }
   ],
   "source": [
    "cluster(kume1,kume2)"
   ]
  },
  {
   "cell_type": "code",
   "execution_count": null,
   "id": "8285dc10",
   "metadata": {},
   "outputs": [],
   "source": []
  },
  {
   "cell_type": "code",
   "execution_count": null,
   "id": "047a30a2",
   "metadata": {},
   "outputs": [],
   "source": []
  }
 ],
 "metadata": {
  "kernelspec": {
   "display_name": "Python 3 (ipykernel)",
   "language": "python",
   "name": "python3"
  },
  "language_info": {
   "codemirror_mode": {
    "name": "ipython",
    "version": 3
   },
   "file_extension": ".py",
   "mimetype": "text/x-python",
   "name": "python",
   "nbconvert_exporter": "python",
   "pygments_lexer": "ipython3",
   "version": "3.9.12"
  }
 },
 "nbformat": 4,
 "nbformat_minor": 5
}
